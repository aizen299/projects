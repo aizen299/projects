{
 "cells": [
  {
   "cell_type": "code",
   "execution_count": 1,
   "id": "78f8c898-371e-4727-938a-340f951dd400",
   "metadata": {},
   "outputs": [
    {
     "name": "stderr",
     "output_type": "stream",
     "text": [
      "[nltk_data] Downloading package stopwords to\n",
      "[nltk_data]     C:\\Users\\raina\\AppData\\Roaming\\nltk_data...\n",
      "[nltk_data]   Package stopwords is already up-to-date!\n",
      "[nltk_data] Downloading package wordnet to\n",
      "[nltk_data]     C:\\Users\\raina\\AppData\\Roaming\\nltk_data...\n",
      "[nltk_data]   Package wordnet is already up-to-date!\n"
     ]
    }
   ],
   "source": [
    "# Defining Dependencies\n",
    "\n",
    "import pandas as pd\n",
    "import numpy as np\n",
    "import re\n",
    "import nltk\n",
    "import matplotlib.pyplot as plt\n",
    "import seaborn as sns\n",
    "from matplotlib import style\n",
    "style.use('ggplot')\n",
    "nltk.download('stopwords')\n",
    "nltk.download('wordnet')\n",
    "from nltk.stem import WordNetLemmatizer\n",
    "from nltk.corpus import stopwords\n",
    "from nltk.tokenize import word_tokenize\n",
    "from sklearn.feature_extraction.text import CountVectorizer\n",
    "from sklearn.model_selection import train_test_split\n",
    "from sklearn.linear_model import LogisticRegression\n",
    "from sklearn.metrics import classification_report,confusion_matrix,accuracy_score,ConfusionMatrixDisplay\n",
    "from sklearn.model_selection import GridSearchCV\n",
    "import warnings\n",
    "from textblob import TextBlob\n",
    "\n"
   ]
  },
  {
   "cell_type": "code",
   "execution_count": 2,
   "id": "157817c8-4306-49d1-9a24-de2adb3c8ee8",
   "metadata": {},
   "outputs": [
    {
     "name": "stdout",
     "output_type": "stream",
     "text": [
      "{'because', 'there', 'same', 'through', 'o', \"should've\", 'wouldn', 'i', 'hasn', \"weren't\", \"shouldn't\", \"hasn't\", \"it's\", 'other', 'how', 'all', 'do', 'own', 'theirs', 'nor', 'are', 'was', 'won', 'yours', 't', 'did', \"didn't\", 'weren', 'just', 'which', 'by', 'then', 'he', 'him', 'with', 'on', 'll', 'been', 'does', \"doesn't\", 'here', 'isn', 'it', 'against', 'her', 'needn', 'its', \"couldn't\", 'what', 'under', 'himself', 'ain', \"wasn't\", 'about', \"you'd\", 'while', 'myself', 'above', 'they', 'themselves', 'those', 'each', 'doesn', 'am', 'these', 'didn', 'has', 'our', 'ours', \"you're\", 'over', 'too', 've', 'you', 'who', 'more', 'will', \"haven't\", 'but', 'your', 'below', 'being', 'to', 'where', 'few', 'd', 'ourselves', \"mightn't\", 'or', 'we', 'itself', 'from', 'mightn', 'herself', 'any', 'most', 'again', \"don't\", 'don', 'a', 'were', 'an', 'the', 're', 'wasn', \"aren't\", \"you'll\", 'this', 's', 'for', 'after', 'my', 'as', 'before', 'should', 'out', 'y', 'his', 'once', 'them', 'm', 'ma', 'only', 'into', 'why', 'hadn', \"hadn't\", 'yourself', 'that', 'shan', \"won't\", \"isn't\", 'is', 'in', 'between', 'further', 'shouldn', 'up', \"shan't\", 'having', 'yourselves', 'whom', 'couldn', 'down', 'such', 'haven', 'doing', 'can', 'until', 'me', 'of', 'at', \"needn't\", \"that'll\", 'both', 'now', \"you've\", 'not', 'when', 'very', \"mustn't\", 'aren', \"wouldn't\", 'during', 'off', 'be', 'no', 'their', 'have', 'and', 'if', 'so', 'than', 'had', 'she', 'hers', \"she's\", 'mustn', 'some'}\n"
     ]
    }
   ],
   "source": [
    "# Printing the stop words in english\n",
    "stop_words = set(stopwords.words('english'))\n",
    "print(stop_words)"
   ]
  },
  {
   "cell_type": "code",
   "execution_count": 3,
   "id": "dbef440e-a14c-47c6-aebd-0a517746f4b1",
   "metadata": {},
   "outputs": [],
   "source": [
    "# Data processing \n",
    "# Loading Data from csv file to pandas dataframe\n",
    "twitter_data = pd.read_csv('vaccination_tweets.csv')"
   ]
  },
  {
   "cell_type": "code",
   "execution_count": 4,
   "id": "62193fe7-2db5-480b-8b90-88804638f425",
   "metadata": {},
   "outputs": [
    {
     "data": {
      "text/html": [
       "<div>\n",
       "<style scoped>\n",
       "    .dataframe tbody tr th:only-of-type {\n",
       "        vertical-align: middle;\n",
       "    }\n",
       "\n",
       "    .dataframe tbody tr th {\n",
       "        vertical-align: top;\n",
       "    }\n",
       "\n",
       "    .dataframe thead th {\n",
       "        text-align: right;\n",
       "    }\n",
       "</style>\n",
       "<table border=\"1\" class=\"dataframe\">\n",
       "  <thead>\n",
       "    <tr style=\"text-align: right;\">\n",
       "      <th></th>\n",
       "      <th>id</th>\n",
       "      <th>user_name</th>\n",
       "      <th>user_location</th>\n",
       "      <th>user_description</th>\n",
       "      <th>user_created</th>\n",
       "      <th>user_followers</th>\n",
       "      <th>user_friends</th>\n",
       "      <th>user_favourites</th>\n",
       "      <th>user_verified</th>\n",
       "      <th>date</th>\n",
       "      <th>text</th>\n",
       "      <th>hashtags</th>\n",
       "      <th>source</th>\n",
       "      <th>retweets</th>\n",
       "      <th>favorites</th>\n",
       "      <th>is_retweet</th>\n",
       "    </tr>\n",
       "  </thead>\n",
       "  <tbody>\n",
       "    <tr>\n",
       "      <th>0</th>\n",
       "      <td>1340539111971516416</td>\n",
       "      <td>Rachel Roh</td>\n",
       "      <td>La Crescenta-Montrose, CA</td>\n",
       "      <td>Aggregator of Asian American news; scanning di...</td>\n",
       "      <td>2009-04-08 17:52:46</td>\n",
       "      <td>405</td>\n",
       "      <td>1692</td>\n",
       "      <td>3247</td>\n",
       "      <td>False</td>\n",
       "      <td>2020-12-20 06:06:44</td>\n",
       "      <td>Same folks said daikon paste could treat a cyt...</td>\n",
       "      <td>['PfizerBioNTech']</td>\n",
       "      <td>Twitter for Android</td>\n",
       "      <td>0</td>\n",
       "      <td>0</td>\n",
       "      <td>False</td>\n",
       "    </tr>\n",
       "    <tr>\n",
       "      <th>1</th>\n",
       "      <td>1338158543359250433</td>\n",
       "      <td>Albert Fong</td>\n",
       "      <td>San Francisco, CA</td>\n",
       "      <td>Marketing dude, tech geek, heavy metal &amp; '80s ...</td>\n",
       "      <td>2009-09-21 15:27:30</td>\n",
       "      <td>834</td>\n",
       "      <td>666</td>\n",
       "      <td>178</td>\n",
       "      <td>False</td>\n",
       "      <td>2020-12-13 16:27:13</td>\n",
       "      <td>While the world has been on the wrong side of ...</td>\n",
       "      <td>NaN</td>\n",
       "      <td>Twitter Web App</td>\n",
       "      <td>1</td>\n",
       "      <td>1</td>\n",
       "      <td>False</td>\n",
       "    </tr>\n",
       "    <tr>\n",
       "      <th>2</th>\n",
       "      <td>1337858199140118533</td>\n",
       "      <td>eli🇱🇹🇪🇺👌</td>\n",
       "      <td>Your Bed</td>\n",
       "      <td>heil, hydra 🖐☺</td>\n",
       "      <td>2020-06-25 23:30:28</td>\n",
       "      <td>10</td>\n",
       "      <td>88</td>\n",
       "      <td>155</td>\n",
       "      <td>False</td>\n",
       "      <td>2020-12-12 20:33:45</td>\n",
       "      <td>#coronavirus #SputnikV #AstraZeneca #PfizerBio...</td>\n",
       "      <td>['coronavirus', 'SputnikV', 'AstraZeneca', 'Pf...</td>\n",
       "      <td>Twitter for Android</td>\n",
       "      <td>0</td>\n",
       "      <td>0</td>\n",
       "      <td>False</td>\n",
       "    </tr>\n",
       "    <tr>\n",
       "      <th>3</th>\n",
       "      <td>1337855739918835717</td>\n",
       "      <td>Charles Adler</td>\n",
       "      <td>Vancouver, BC - Canada</td>\n",
       "      <td>Hosting \"CharlesAdlerTonight\" Global News Radi...</td>\n",
       "      <td>2008-09-10 11:28:53</td>\n",
       "      <td>49165</td>\n",
       "      <td>3933</td>\n",
       "      <td>21853</td>\n",
       "      <td>True</td>\n",
       "      <td>2020-12-12 20:23:59</td>\n",
       "      <td>Facts are immutable, Senator, even when you're...</td>\n",
       "      <td>NaN</td>\n",
       "      <td>Twitter Web App</td>\n",
       "      <td>446</td>\n",
       "      <td>2129</td>\n",
       "      <td>False</td>\n",
       "    </tr>\n",
       "    <tr>\n",
       "      <th>4</th>\n",
       "      <td>1337854064604966912</td>\n",
       "      <td>Citizen News Channel</td>\n",
       "      <td>NaN</td>\n",
       "      <td>Citizen News Channel bringing you an alternati...</td>\n",
       "      <td>2020-04-23 17:58:42</td>\n",
       "      <td>152</td>\n",
       "      <td>580</td>\n",
       "      <td>1473</td>\n",
       "      <td>False</td>\n",
       "      <td>2020-12-12 20:17:19</td>\n",
       "      <td>Explain to me again why we need a vaccine @Bor...</td>\n",
       "      <td>['whereareallthesickpeople', 'PfizerBioNTech']</td>\n",
       "      <td>Twitter for iPhone</td>\n",
       "      <td>0</td>\n",
       "      <td>0</td>\n",
       "      <td>False</td>\n",
       "    </tr>\n",
       "  </tbody>\n",
       "</table>\n",
       "</div>"
      ],
      "text/plain": [
       "                    id             user_name              user_location  \\\n",
       "0  1340539111971516416            Rachel Roh  La Crescenta-Montrose, CA   \n",
       "1  1338158543359250433           Albert Fong          San Francisco, CA   \n",
       "2  1337858199140118533              eli🇱🇹🇪🇺👌                   Your Bed   \n",
       "3  1337855739918835717         Charles Adler     Vancouver, BC - Canada   \n",
       "4  1337854064604966912  Citizen News Channel                        NaN   \n",
       "\n",
       "                                    user_description         user_created  \\\n",
       "0  Aggregator of Asian American news; scanning di...  2009-04-08 17:52:46   \n",
       "1  Marketing dude, tech geek, heavy metal & '80s ...  2009-09-21 15:27:30   \n",
       "2                                     heil, hydra 🖐☺  2020-06-25 23:30:28   \n",
       "3  Hosting \"CharlesAdlerTonight\" Global News Radi...  2008-09-10 11:28:53   \n",
       "4  Citizen News Channel bringing you an alternati...  2020-04-23 17:58:42   \n",
       "\n",
       "   user_followers  user_friends  user_favourites  user_verified  \\\n",
       "0             405          1692             3247          False   \n",
       "1             834           666              178          False   \n",
       "2              10            88              155          False   \n",
       "3           49165          3933            21853           True   \n",
       "4             152           580             1473          False   \n",
       "\n",
       "                  date                                               text  \\\n",
       "0  2020-12-20 06:06:44  Same folks said daikon paste could treat a cyt...   \n",
       "1  2020-12-13 16:27:13  While the world has been on the wrong side of ...   \n",
       "2  2020-12-12 20:33:45  #coronavirus #SputnikV #AstraZeneca #PfizerBio...   \n",
       "3  2020-12-12 20:23:59  Facts are immutable, Senator, even when you're...   \n",
       "4  2020-12-12 20:17:19  Explain to me again why we need a vaccine @Bor...   \n",
       "\n",
       "                                            hashtags               source  \\\n",
       "0                                 ['PfizerBioNTech']  Twitter for Android   \n",
       "1                                                NaN      Twitter Web App   \n",
       "2  ['coronavirus', 'SputnikV', 'AstraZeneca', 'Pf...  Twitter for Android   \n",
       "3                                                NaN      Twitter Web App   \n",
       "4     ['whereareallthesickpeople', 'PfizerBioNTech']   Twitter for iPhone   \n",
       "\n",
       "   retweets  favorites  is_retweet  \n",
       "0         0          0       False  \n",
       "1         1          1       False  \n",
       "2         0          0       False  \n",
       "3       446       2129       False  \n",
       "4         0          0       False  "
      ]
     },
     "execution_count": 4,
     "metadata": {},
     "output_type": "execute_result"
    }
   ],
   "source": [
    "# Checking the dataframe\n",
    "twitter_data.head()"
   ]
  },
  {
   "cell_type": "code",
   "execution_count": 5,
   "id": "724a6abe-2e7f-41c2-af78-d9bcd186f1aa",
   "metadata": {},
   "outputs": [
    {
     "data": {
      "text/html": [
       "<div>\n",
       "<style scoped>\n",
       "    .dataframe tbody tr th:only-of-type {\n",
       "        vertical-align: middle;\n",
       "    }\n",
       "\n",
       "    .dataframe tbody tr th {\n",
       "        vertical-align: top;\n",
       "    }\n",
       "\n",
       "    .dataframe thead th {\n",
       "        text-align: right;\n",
       "    }\n",
       "</style>\n",
       "<table border=\"1\" class=\"dataframe\">\n",
       "  <thead>\n",
       "    <tr style=\"text-align: right;\">\n",
       "      <th></th>\n",
       "      <th>id</th>\n",
       "      <th>user_name</th>\n",
       "      <th>user_location</th>\n",
       "      <th>user_description</th>\n",
       "      <th>user_created</th>\n",
       "      <th>user_followers</th>\n",
       "      <th>user_friends</th>\n",
       "      <th>user_favourites</th>\n",
       "      <th>user_verified</th>\n",
       "      <th>date</th>\n",
       "      <th>text</th>\n",
       "      <th>hashtags</th>\n",
       "      <th>source</th>\n",
       "      <th>retweets</th>\n",
       "      <th>favorites</th>\n",
       "      <th>is_retweet</th>\n",
       "    </tr>\n",
       "  </thead>\n",
       "  <tbody>\n",
       "    <tr>\n",
       "      <th>11015</th>\n",
       "      <td>1460932683630977025</td>\n",
       "      <td>theSun</td>\n",
       "      <td>Petaling Jaya</td>\n",
       "      <td>Breaking news updates from the website of Mala...</td>\n",
       "      <td>2009-07-29 01:58:44</td>\n",
       "      <td>151937</td>\n",
       "      <td>465</td>\n",
       "      <td>593</td>\n",
       "      <td>False</td>\n",
       "      <td>2021-11-17 11:27:49</td>\n",
       "      <td>The number of Covid-19 cases today, 17 Novembe...</td>\n",
       "      <td>NaN</td>\n",
       "      <td>Twitter Web App</td>\n",
       "      <td>2</td>\n",
       "      <td>6</td>\n",
       "      <td>False</td>\n",
       "    </tr>\n",
       "    <tr>\n",
       "      <th>11016</th>\n",
       "      <td>1460809350792896516</td>\n",
       "      <td>Sujan</td>\n",
       "      <td>NaN</td>\n",
       "      <td>________________________ •Napricorn• •It's jus...</td>\n",
       "      <td>2013-01-28 11:48:20</td>\n",
       "      <td>4259</td>\n",
       "      <td>622</td>\n",
       "      <td>156941</td>\n",
       "      <td>False</td>\n",
       "      <td>2021-11-17 03:17:44</td>\n",
       "      <td>First dose ✅\\n#PfizerBioNTech</td>\n",
       "      <td>['PfizerBioNTech']</td>\n",
       "      <td>Twitter for Android</td>\n",
       "      <td>0</td>\n",
       "      <td>4</td>\n",
       "      <td>False</td>\n",
       "    </tr>\n",
       "    <tr>\n",
       "      <th>11017</th>\n",
       "      <td>1460581918295031809</td>\n",
       "      <td>theSun</td>\n",
       "      <td>Petaling Jaya</td>\n",
       "      <td>Breaking news updates from the website of Mala...</td>\n",
       "      <td>2009-07-29 01:58:44</td>\n",
       "      <td>151937</td>\n",
       "      <td>465</td>\n",
       "      <td>593</td>\n",
       "      <td>False</td>\n",
       "      <td>2021-11-16 12:14:00</td>\n",
       "      <td>The number of Covid-19 cases today, 16 Novembe...</td>\n",
       "      <td>NaN</td>\n",
       "      <td>Twitter Web App</td>\n",
       "      <td>3</td>\n",
       "      <td>5</td>\n",
       "      <td>False</td>\n",
       "    </tr>\n",
       "    <tr>\n",
       "      <th>11018</th>\n",
       "      <td>1460344277951782922</td>\n",
       "      <td>Aleksejs Jackovs</td>\n",
       "      <td>Ireland</td>\n",
       "      <td>#Scientificresearcher in #InformationTechnolog...</td>\n",
       "      <td>2012-08-13 13:47:03</td>\n",
       "      <td>1</td>\n",
       "      <td>38</td>\n",
       "      <td>99</td>\n",
       "      <td>False</td>\n",
       "      <td>2021-11-15 20:29:42</td>\n",
       "      <td>#PfizerBioNTech has developed new pill #Paxlov...</td>\n",
       "      <td>['PfizerBioNTech', 'Paxlovid', 'COVID19']</td>\n",
       "      <td>Twitter Web App</td>\n",
       "      <td>1</td>\n",
       "      <td>1</td>\n",
       "      <td>False</td>\n",
       "    </tr>\n",
       "    <tr>\n",
       "      <th>11019</th>\n",
       "      <td>1460208097956225028</td>\n",
       "      <td>theSun</td>\n",
       "      <td>Petaling Jaya</td>\n",
       "      <td>Breaking news updates from the website of Mala...</td>\n",
       "      <td>2009-07-29 01:58:44</td>\n",
       "      <td>151937</td>\n",
       "      <td>465</td>\n",
       "      <td>593</td>\n",
       "      <td>False</td>\n",
       "      <td>2021-11-15 11:28:34</td>\n",
       "      <td>The number of Covid-19 cases today, 15 Novembe...</td>\n",
       "      <td>NaN</td>\n",
       "      <td>Twitter Web App</td>\n",
       "      <td>2</td>\n",
       "      <td>6</td>\n",
       "      <td>False</td>\n",
       "    </tr>\n",
       "  </tbody>\n",
       "</table>\n",
       "</div>"
      ],
      "text/plain": [
       "                        id         user_name  user_location  \\\n",
       "11015  1460932683630977025            theSun  Petaling Jaya   \n",
       "11016  1460809350792896516             Sujan            NaN   \n",
       "11017  1460581918295031809            theSun  Petaling Jaya   \n",
       "11018  1460344277951782922  Aleksejs Jackovs        Ireland   \n",
       "11019  1460208097956225028            theSun  Petaling Jaya   \n",
       "\n",
       "                                        user_description         user_created  \\\n",
       "11015  Breaking news updates from the website of Mala...  2009-07-29 01:58:44   \n",
       "11016  ________________________ •Napricorn• •It's jus...  2013-01-28 11:48:20   \n",
       "11017  Breaking news updates from the website of Mala...  2009-07-29 01:58:44   \n",
       "11018  #Scientificresearcher in #InformationTechnolog...  2012-08-13 13:47:03   \n",
       "11019  Breaking news updates from the website of Mala...  2009-07-29 01:58:44   \n",
       "\n",
       "       user_followers  user_friends  user_favourites  user_verified  \\\n",
       "11015          151937           465              593          False   \n",
       "11016            4259           622           156941          False   \n",
       "11017          151937           465              593          False   \n",
       "11018               1            38               99          False   \n",
       "11019          151937           465              593          False   \n",
       "\n",
       "                      date                                               text  \\\n",
       "11015  2021-11-17 11:27:49  The number of Covid-19 cases today, 17 Novembe...   \n",
       "11016  2021-11-17 03:17:44                      First dose ✅\\n#PfizerBioNTech   \n",
       "11017  2021-11-16 12:14:00  The number of Covid-19 cases today, 16 Novembe...   \n",
       "11018  2021-11-15 20:29:42  #PfizerBioNTech has developed new pill #Paxlov...   \n",
       "11019  2021-11-15 11:28:34  The number of Covid-19 cases today, 15 Novembe...   \n",
       "\n",
       "                                        hashtags               source  \\\n",
       "11015                                        NaN      Twitter Web App   \n",
       "11016                         ['PfizerBioNTech']  Twitter for Android   \n",
       "11017                                        NaN      Twitter Web App   \n",
       "11018  ['PfizerBioNTech', 'Paxlovid', 'COVID19']      Twitter Web App   \n",
       "11019                                        NaN      Twitter Web App   \n",
       "\n",
       "       retweets  favorites  is_retweet  \n",
       "11015         2          6       False  \n",
       "11016         0          4       False  \n",
       "11017         3          5       False  \n",
       "11018         1          1       False  \n",
       "11019         2          6       False  "
      ]
     },
     "execution_count": 5,
     "metadata": {},
     "output_type": "execute_result"
    }
   ],
   "source": [
    "twitter_data.tail()   # optional "
   ]
  },
  {
   "cell_type": "code",
   "execution_count": 6,
   "id": "e2c0b4ab-c3a4-4e62-88c1-563852ce68ba",
   "metadata": {},
   "outputs": [
    {
     "name": "stdout",
     "output_type": "stream",
     "text": [
      "<class 'pandas.core.frame.DataFrame'>\n",
      "RangeIndex: 11020 entries, 0 to 11019\n",
      "Data columns (total 16 columns):\n",
      " #   Column            Non-Null Count  Dtype \n",
      "---  ------            --------------  ----- \n",
      " 0   id                11020 non-null  int64 \n",
      " 1   user_name         11020 non-null  object\n",
      " 2   user_location     8750 non-null   object\n",
      " 3   user_description  10340 non-null  object\n",
      " 4   user_created      11020 non-null  object\n",
      " 5   user_followers    11020 non-null  int64 \n",
      " 6   user_friends      11020 non-null  int64 \n",
      " 7   user_favourites   11020 non-null  int64 \n",
      " 8   user_verified     11020 non-null  bool  \n",
      " 9   date              11020 non-null  object\n",
      " 10  text              11020 non-null  object\n",
      " 11  hashtags          8438 non-null   object\n",
      " 12  source            11019 non-null  object\n",
      " 13  retweets          11020 non-null  int64 \n",
      " 14  favorites         11020 non-null  int64 \n",
      " 15  is_retweet        11020 non-null  bool  \n",
      "dtypes: bool(2), int64(6), object(8)\n",
      "memory usage: 1.2+ MB\n"
     ]
    }
   ],
   "source": [
    "twitter_data.info()  # information about dataframe"
   ]
  },
  {
   "cell_type": "code",
   "execution_count": 7,
   "id": "e5312bdb-552a-4320-944e-3c1facfe293c",
   "metadata": {},
   "outputs": [
    {
     "data": {
      "text/plain": [
       "id                     0\n",
       "user_name              0\n",
       "user_location       2270\n",
       "user_description     680\n",
       "user_created           0\n",
       "user_followers         0\n",
       "user_friends           0\n",
       "user_favourites        0\n",
       "user_verified          0\n",
       "date                   0\n",
       "text                   0\n",
       "hashtags            2582\n",
       "source                 1\n",
       "retweets               0\n",
       "favorites              0\n",
       "is_retweet             0\n",
       "dtype: int64"
      ]
     },
     "execution_count": 7,
     "metadata": {},
     "output_type": "execute_result"
    }
   ],
   "source": [
    "# Checking for Missing Values i.e text in the dataframe \n",
    "twitter_data.isnull().sum()"
   ]
  },
  {
   "cell_type": "code",
   "execution_count": 8,
   "id": "5d3888c7-4107-46f1-8034-c6889b4a2d21",
   "metadata": {},
   "outputs": [
    {
     "data": {
      "text/plain": [
       "Index(['id', 'user_name', 'user_location', 'user_description', 'user_created',\n",
       "       'user_followers', 'user_friends', 'user_favourites', 'user_verified',\n",
       "       'date', 'text', 'hashtags', 'source', 'retweets', 'favorites',\n",
       "       'is_retweet'],\n",
       "      dtype='object')"
      ]
     },
     "execution_count": 8,
     "metadata": {},
     "output_type": "execute_result"
    }
   ],
   "source": [
    "twitter_data.columns  # viewing columns in the dataframe"
   ]
  },
  {
   "cell_type": "code",
   "execution_count": 9,
   "id": "79a1072f-e8c2-4fed-9747-1fc51f9941c5",
   "metadata": {},
   "outputs": [],
   "source": [
    "# Dropping unrelated columns\n",
    "tweet_data = twitter_data.drop(['id', 'user_name', 'user_location', 'user_description', 'user_created',\n",
    "       'user_followers', 'user_friends', 'user_favourites', 'user_verified',\n",
    "       'date', 'hashtags', 'source', 'retweets', 'favorites',\n",
    "       'is_retweet'],axis = 1)"
   ]
  },
  {
   "cell_type": "code",
   "execution_count": 10,
   "id": "6c61f68c-7520-442c-9fc1-520340409f9d",
   "metadata": {},
   "outputs": [
    {
     "data": {
      "text/html": [
       "<div>\n",
       "<style scoped>\n",
       "    .dataframe tbody tr th:only-of-type {\n",
       "        vertical-align: middle;\n",
       "    }\n",
       "\n",
       "    .dataframe tbody tr th {\n",
       "        vertical-align: top;\n",
       "    }\n",
       "\n",
       "    .dataframe thead th {\n",
       "        text-align: right;\n",
       "    }\n",
       "</style>\n",
       "<table border=\"1\" class=\"dataframe\">\n",
       "  <thead>\n",
       "    <tr style=\"text-align: right;\">\n",
       "      <th></th>\n",
       "      <th>text</th>\n",
       "    </tr>\n",
       "  </thead>\n",
       "  <tbody>\n",
       "    <tr>\n",
       "      <th>0</th>\n",
       "      <td>Same folks said daikon paste could treat a cyt...</td>\n",
       "    </tr>\n",
       "    <tr>\n",
       "      <th>1</th>\n",
       "      <td>While the world has been on the wrong side of ...</td>\n",
       "    </tr>\n",
       "    <tr>\n",
       "      <th>2</th>\n",
       "      <td>#coronavirus #SputnikV #AstraZeneca #PfizerBio...</td>\n",
       "    </tr>\n",
       "    <tr>\n",
       "      <th>3</th>\n",
       "      <td>Facts are immutable, Senator, even when you're...</td>\n",
       "    </tr>\n",
       "    <tr>\n",
       "      <th>4</th>\n",
       "      <td>Explain to me again why we need a vaccine @Bor...</td>\n",
       "    </tr>\n",
       "  </tbody>\n",
       "</table>\n",
       "</div>"
      ],
      "text/plain": [
       "                                                text\n",
       "0  Same folks said daikon paste could treat a cyt...\n",
       "1  While the world has been on the wrong side of ...\n",
       "2  #coronavirus #SputnikV #AstraZeneca #PfizerBio...\n",
       "3  Facts are immutable, Senator, even when you're...\n",
       "4  Explain to me again why we need a vaccine @Bor..."
      ]
     },
     "execution_count": 10,
     "metadata": {},
     "output_type": "execute_result"
    }
   ],
   "source": [
    "# Checking the dataframe after dropping columns\n",
    "tweet_data.head()"
   ]
  },
  {
   "cell_type": "code",
   "execution_count": 11,
   "id": "c848322f-b55d-4b6c-84e5-b39defd13f43",
   "metadata": {},
   "outputs": [
    {
     "name": "stdout",
     "output_type": "stream",
     "text": [
      "<class 'pandas.core.frame.DataFrame'>\n",
      "RangeIndex: 11020 entries, 0 to 11019\n",
      "Data columns (total 1 columns):\n",
      " #   Column  Non-Null Count  Dtype \n",
      "---  ------  --------------  ----- \n",
      " 0   text    11020 non-null  object\n",
      "dtypes: object(1)\n",
      "memory usage: 86.2+ KB\n"
     ]
    }
   ],
   "source": [
    "tweet_data.info() # Reviewing the dataframe after dropping columns"
   ]
  },
  {
   "cell_type": "code",
   "execution_count": 12,
   "id": "063ce674-dab6-4efd-9e6d-3d5f8b5915d6",
   "metadata": {},
   "outputs": [],
   "source": [
    "# Data Processing\n",
    "def dataprocessing(text):\n",
    "    text = text.lower()\n",
    "    text = re.sub(r\"https\\S+|www\\S+https\\S+\",'',text,flags=re.MULTILINE)\n",
    "    text = re.sub(r'\\@w+|\\#','',text)\n",
    "    text = re.sub(r'[^\\w\\s]','',text)\n",
    "    text_tokens = word_tokenize(text)\n",
    "    filtered_text = [w for w in text_tokens if not w in stop_words]\n",
    "    return \" \".join(filtered_text)"
   ]
  },
  {
   "cell_type": "code",
   "execution_count": 13,
   "id": "fca3b7d3-d43a-4b21-9ecb-6bfa22a23099",
   "metadata": {},
   "outputs": [],
   "source": [
    "tweet_data.text = tweet_data['text'].apply(dataprocessing)"
   ]
  },
  {
   "cell_type": "code",
   "execution_count": 14,
   "id": "ccb872e6-92b4-45c3-a045-3f805adc0688",
   "metadata": {},
   "outputs": [],
   "source": [
    "tweet_data = tweet_data.drop_duplicates('text')"
   ]
  },
  {
   "cell_type": "code",
   "execution_count": 15,
   "id": "f6dda88f-7e0b-4bb9-8606-c29ac2acfb5b",
   "metadata": {},
   "outputs": [],
   "source": [
    "# Lamentizing the text in the dataframe\n",
    "lem = WordNetLemmatizer()\n",
    "def lament(content):\n",
    "    text = [lem.lemmatize(word) for word in content]\n",
    "    return content"
   ]
  },
  {
   "cell_type": "code",
   "execution_count": 16,
   "id": "65c5d270-a919-417a-8a03-b8f7ab2f2642",
   "metadata": {},
   "outputs": [],
   "source": [
    "tweet_data['text'] = tweet_data['text'].apply(lambda x: lament(x))"
   ]
  },
  {
   "cell_type": "code",
   "execution_count": 17,
   "id": "b0600d17-d42d-4cf6-8f78-a1efdc7b14ff",
   "metadata": {},
   "outputs": [],
   "source": [
    "# Analysing the polarity of tweets\n",
    "def polarity(txt):\n",
    "    return TextBlob(txt).sentiment.polarity"
   ]
  },
  {
   "cell_type": "code",
   "execution_count": 18,
   "id": "7cdbc6b9-41b5-4fa5-a903-106098c53073",
   "metadata": {},
   "outputs": [],
   "source": [
    "tweet_data['polarity'] = tweet_data['text'].apply(polarity)"
   ]
  },
  {
   "cell_type": "code",
   "execution_count": 19,
   "id": "bcfeff75-fa7e-446a-bb2e-bcb3de77bc89",
   "metadata": {},
   "outputs": [
    {
     "data": {
      "text/html": [
       "<div>\n",
       "<style scoped>\n",
       "    .dataframe tbody tr th:only-of-type {\n",
       "        vertical-align: middle;\n",
       "    }\n",
       "\n",
       "    .dataframe tbody tr th {\n",
       "        vertical-align: top;\n",
       "    }\n",
       "\n",
       "    .dataframe thead th {\n",
       "        text-align: right;\n",
       "    }\n",
       "</style>\n",
       "<table border=\"1\" class=\"dataframe\">\n",
       "  <thead>\n",
       "    <tr style=\"text-align: right;\">\n",
       "      <th></th>\n",
       "      <th>text</th>\n",
       "      <th>polarity</th>\n",
       "    </tr>\n",
       "  </thead>\n",
       "  <tbody>\n",
       "    <tr>\n",
       "      <th>0</th>\n",
       "      <td>folks said daikon paste could treat cytokine s...</td>\n",
       "      <td>0.000</td>\n",
       "    </tr>\n",
       "    <tr>\n",
       "      <th>1</th>\n",
       "      <td>world wrong side history year hopefully bigges...</td>\n",
       "      <td>-0.500</td>\n",
       "    </tr>\n",
       "    <tr>\n",
       "      <th>2</th>\n",
       "      <td>coronavirus sputnikv astrazeneca pfizerbiontec...</td>\n",
       "      <td>0.000</td>\n",
       "    </tr>\n",
       "    <tr>\n",
       "      <th>3</th>\n",
       "      <td>facts immutable senator even youre ethically s...</td>\n",
       "      <td>0.100</td>\n",
       "    </tr>\n",
       "    <tr>\n",
       "      <th>4</th>\n",
       "      <td>explain need vaccine borisjohnson matthancock ...</td>\n",
       "      <td>0.000</td>\n",
       "    </tr>\n",
       "    <tr>\n",
       "      <th>5</th>\n",
       "      <td>anyone useful adviceguidance whether covid vac...</td>\n",
       "      <td>0.400</td>\n",
       "    </tr>\n",
       "    <tr>\n",
       "      <th>6</th>\n",
       "      <td>bit sad claim fame success vaccination patriot...</td>\n",
       "      <td>-0.100</td>\n",
       "    </tr>\n",
       "    <tr>\n",
       "      <th>7</th>\n",
       "      <td>many bright days 2020 best 1 bidenharris winni...</td>\n",
       "      <td>0.675</td>\n",
       "    </tr>\n",
       "    <tr>\n",
       "      <th>8</th>\n",
       "      <td>covid vaccine getting covidvaccine covid19 pfi...</td>\n",
       "      <td>0.000</td>\n",
       "    </tr>\n",
       "    <tr>\n",
       "      <th>9</th>\n",
       "      <td>covidvaccine states start getting covid19vacci...</td>\n",
       "      <td>0.000</td>\n",
       "    </tr>\n",
       "  </tbody>\n",
       "</table>\n",
       "</div>"
      ],
      "text/plain": [
       "                                                text  polarity\n",
       "0  folks said daikon paste could treat cytokine s...     0.000\n",
       "1  world wrong side history year hopefully bigges...    -0.500\n",
       "2  coronavirus sputnikv astrazeneca pfizerbiontec...     0.000\n",
       "3  facts immutable senator even youre ethically s...     0.100\n",
       "4  explain need vaccine borisjohnson matthancock ...     0.000\n",
       "5  anyone useful adviceguidance whether covid vac...     0.400\n",
       "6  bit sad claim fame success vaccination patriot...    -0.100\n",
       "7  many bright days 2020 best 1 bidenharris winni...     0.675\n",
       "8  covid vaccine getting covidvaccine covid19 pfi...     0.000\n",
       "9  covidvaccine states start getting covid19vacci...     0.000"
      ]
     },
     "execution_count": 19,
     "metadata": {},
     "output_type": "execute_result"
    }
   ],
   "source": [
    "tweet_data.head(10)   # Reviewing the dataframe "
   ]
  },
  {
   "cell_type": "code",
   "execution_count": 20,
   "id": "e81f943f-af1e-45ee-a50c-228495b78857",
   "metadata": {},
   "outputs": [],
   "source": [
    "def sentiment(label):\n",
    "    if label<0:\n",
    "        return \"Negative\"\n",
    "    elif label==0:\n",
    "        return \"Neutral\"\n",
    "    else:\n",
    "        return \"Positive\""
   ]
  },
  {
   "cell_type": "code",
   "execution_count": 21,
   "id": "d55d39d0-6412-4746-b939-5139385f5a2d",
   "metadata": {},
   "outputs": [],
   "source": [
    "tweet_data['sentiment'] = tweet_data['polarity'].apply(sentiment)"
   ]
  },
  {
   "cell_type": "code",
   "execution_count": 22,
   "id": "7d4f6d77-415c-42e6-8876-96495d332a3f",
   "metadata": {},
   "outputs": [
    {
     "data": {
      "text/plain": [
       "<Axes: xlabel='sentiment', ylabel='count'>"
      ]
     },
     "execution_count": 22,
     "metadata": {},
     "output_type": "execute_result"
    },
    {
     "data": {
      "image/png": "[encoded data removed]",
      "text/plain": [
       "<Figure size 500x500 with 1 Axes>"
      ]
     },
     "metadata": {},
     "output_type": "display_data"
    }
   ],
   "source": [
    "# Plotting the Data\n",
    "fig = plt.figure(figsize=(5,5))\n",
    "sns.countplot(x='sentiment',data = tweet_data)"
   ]
  },
  {
   "cell_type": "code",
   "execution_count": 23,
   "id": "7cb64da3-13d1-44a2-92bf-e9e4acbf7a86",
   "metadata": {},
   "outputs": [],
   "source": [
    "# Vectorinzing the Dataframe \n",
    "vector = CountVectorizer(ngram_range=(1,2)).fit(tweet_data['text'])"
   ]
  },
  {
   "cell_type": "code",
   "execution_count": 24,
   "id": "2f227364-6f44-4fff-b1ac-f45adb9b075d",
   "metadata": {},
   "outputs": [],
   "source": [
    "# Splitting the dataframe\n",
    "X = tweet_data['text']\n",
    "Y = tweet_data['sentiment']\n",
    "X = vector.transform(X)"
   ]
  },
  {
   "cell_type": "code",
   "execution_count": 25,
   "id": "d496bba1-0318-4a22-adb0-29d29a5222ed",
   "metadata": {},
   "outputs": [],
   "source": [
    "xtrain,xtest,ytrain,ytest = train_test_split(X,Y,test_size = 0.2,random_state = 42)"
   ]
  },
  {
   "cell_type": "code",
   "execution_count": 26,
   "id": "0da6d4ed-d82f-4a53-9371-e8ccab314f9a",
   "metadata": {},
   "outputs": [
    {
     "name": "stdout",
     "output_type": "stream",
     "text": [
      "Size of xtrain : (8434, 78583)\n",
      "Size of ytrain : (8434,)\n",
      "Size of xtest : (2109, 78583)\n",
      "Size of ytest : (2109,)\n"
     ]
    }
   ],
   "source": [
    "print(\"Size of xtrain :\",(xtrain.shape))\n",
    "print(\"Size of ytrain :\",(ytrain.shape))\n",
    "print(\"Size of xtest :\",(xtest.shape))\n",
    "print(\"Size of ytest :\",(ytest.shape))"
   ]
  },
  {
   "cell_type": "code",
   "execution_count": 27,
   "id": "d83dcb65-11fb-4daf-b70a-7d84e59937f9",
   "metadata": {},
   "outputs": [],
   "source": [
    "# ignoring certain useless warnings\n",
    "warnings.filterwarnings('ignore')"
   ]
  },
  {
   "cell_type": "code",
   "execution_count": 28,
   "id": "55dd854c-0060-414f-8f41-8edba666cc95",
   "metadata": {},
   "outputs": [
    {
     "name": "stdout",
     "output_type": "stream",
     "text": [
      "Test Accuracy : 84.64%\n"
     ]
    }
   ],
   "source": [
    "# Training the Model \n",
    "model = LogisticRegression()\n",
    "model.fit(xtrain,ytrain)\n",
    "# Predicting \n",
    "model_pred = model.predict(xtest)\n",
    "# Accuracy Test\n",
    "model_accuracy = accuracy_score(model_pred,ytest)\n",
    "print(\"Test Accuracy : {:.2f}%\".format(model_accuracy*100))"
   ]
  },
  {
   "cell_type": "code",
   "execution_count": 29,
   "id": "19fe88b3-0fe9-4de9-bf14-7e3824b052f9",
   "metadata": {},
   "outputs": [
    {
     "name": "stdout",
     "output_type": "stream",
     "text": [
      "[[  72  116   38]\n",
      " [   4 1008    9]\n",
      " [   8  149  705]]\n",
      "\n",
      "\n",
      "              precision    recall  f1-score   support\n",
      "\n",
      "    Negative       0.86      0.32      0.46       226\n",
      "     Neutral       0.79      0.99      0.88      1021\n",
      "    Positive       0.94      0.82      0.87       862\n",
      "\n",
      "    accuracy                           0.85      2109\n",
      "   macro avg       0.86      0.71      0.74      2109\n",
      "weighted avg       0.86      0.85      0.83      2109\n",
      "\n"
     ]
    },
    {
     "data": {
      "text/plain": [
       "<sklearn.metrics._plot.confusion_matrix.ConfusionMatrixDisplay at 0x2447ef0f850>"
      ]
     },
     "execution_count": 29,
     "metadata": {},
     "output_type": "execute_result"
    },
    {
     "data": {
      "image/png": "[encoded data removed]",
      "text/plain": [
       "<Figure size 640x480 with 2 Axes>"
      ]
     },
     "metadata": {},
     "output_type": "display_data"
    }
   ],
   "source": [
    "# Displaying and plotting the Confusion Matrix\n",
    "print(confusion_matrix(ytest,model_pred))\n",
    "print(\"\\n\")\n",
    "print(classification_report(ytest,model_pred)) # display classification report\n",
    "style.use('classic')\n",
    "cm=confusion_matrix(ytest,model_pred,labels=model.classes_)\n",
    "disp = ConfusionMatrixDisplay(confusion_matrix = cm,display_labels=model.classes_)\n",
    "disp.plot()"
   ]
  },
  {
   "cell_type": "code",
   "execution_count": 30,
   "id": "50aafae2-5038-48ad-af02-f892ec57d169",
   "metadata": {},
   "outputs": [
    {
     "data": {
      "text/html": [
       "<style>#sk-container-id-1 {color: black;}#sk-container-id-1 pre{padding: 0;}#sk-container-id-1 div.sk-toggleable {background-color: white;}#sk-container-id-1 label.sk-toggleable__label {cursor: pointer;display: block;width: 100%;margin-bottom: 0;padding: 0.3em;box-sizing: border-box;text-align: center;}#sk-container-id-1 label.sk-toggleable__label-arrow:before {content: \"▸\";float: left;margin-right: 0.25em;color: #696969;}#sk-container-id-1 label.sk-toggleable__label-arrow:hover:before {color: black;}#sk-container-id-1 div.sk-estimator:hover label.sk-toggleable__label-arrow:before {color: black;}#sk-container-id-1 div.sk-toggleable__content {max-height: 0;max-width: 0;overflow: hidden;text-align: left;background-color: #f0f8ff;}#sk-container-id-1 div.sk-toggleable__content pre {margin: 0.2em;color: black;border-radius: 0.25em;background-color: #f0f8ff;}#sk-container-id-1 input.sk-toggleable__control:checked~div.sk-toggleable__content {max-height: 200px;max-width: 100%;overflow: auto;}#sk-container-id-1 input.sk-toggleable__control:checked~label.sk-toggleable__label-arrow:before {content: \"▾\";}#sk-container-id-1 div.sk-estimator input.sk-toggleable__control:checked~label.sk-toggleable__label {background-color: #d4ebff;}#sk-container-id-1 div.sk-label input.sk-toggleable__control:checked~label.sk-toggleable__label {background-color: #d4ebff;}#sk-container-id-1 input.sk-hidden--visually {border: 0;clip: rect(1px 1px 1px 1px);clip: rect(1px, 1px, 1px, 1px);height: 1px;margin: -1px;overflow: hidden;padding: 0;position: absolute;width: 1px;}#sk-container-id-1 div.sk-estimator {font-family: monospace;background-color: #f0f8ff;border: 1px dotted black;border-radius: 0.25em;box-sizing: border-box;margin-bottom: 0.5em;}#sk-container-id-1 div.sk-estimator:hover {background-color: #d4ebff;}#sk-container-id-1 div.sk-parallel-item::after {content: \"\";width: 100%;border-bottom: 1px solid gray;flex-grow: 1;}#sk-container-id-1 div.sk-label:hover label.sk-toggleable__label {background-color: #d4ebff;}#sk-container-id-1 div.sk-serial::before {content: \"\";position: absolute;border-left: 1px solid gray;box-sizing: border-box;top: 0;bottom: 0;left: 50%;z-index: 0;}#sk-container-id-1 div.sk-serial {display: flex;flex-direction: column;align-items: center;background-color: white;padding-right: 0.2em;padding-left: 0.2em;position: relative;}#sk-container-id-1 div.sk-item {position: relative;z-index: 1;}#sk-container-id-1 div.sk-parallel {display: flex;align-items: stretch;justify-content: center;background-color: white;position: relative;}#sk-container-id-1 div.sk-item::before, #sk-container-id-1 div.sk-parallel-item::before {content: \"\";position: absolute;border-left: 1px solid gray;box-sizing: border-box;top: 0;bottom: 0;left: 50%;z-index: -1;}#sk-container-id-1 div.sk-parallel-item {display: flex;flex-direction: column;z-index: 1;position: relative;background-color: white;}#sk-container-id-1 div.sk-parallel-item:first-child::after {align-self: flex-end;width: 50%;}#sk-container-id-1 div.sk-parallel-item:last-child::after {align-self: flex-start;width: 50%;}#sk-container-id-1 div.sk-parallel-item:only-child::after {width: 0;}#sk-container-id-1 div.sk-dashed-wrapped {border: 1px dashed gray;margin: 0 0.4em 0.5em 0.4em;box-sizing: border-box;padding-bottom: 0.4em;background-color: white;}#sk-container-id-1 div.sk-label label {font-family: monospace;font-weight: bold;display: inline-block;line-height: 1.2em;}#sk-container-id-1 div.sk-label-container {text-align: center;}#sk-container-id-1 div.sk-container {/* jupyter's `normalize.less` sets `[hidden] { display: none; }` but bootstrap.min.css set `[hidden] { display: none !important; }` so we also need the `!important` here to be able to override the default hidden behavior on the sphinx rendered scikit-learn.org. See: https://github.com/scikit-learn/scikit-learn/issues/21755 */display: inline-block !important;position: relative;}#sk-container-id-1 div.sk-text-repr-fallback {display: none;}</style><div id=\"sk-container-id-1\" class=\"sk-top-container\"><div class=\"sk-text-repr-fallback\"><pre>GridSearchCV(estimator=LogisticRegression(),\n",
       "             param_grid={&#x27;C&#x27;: [0.001, 0.01, 0.1, 1, 10]})</pre><b>In a Jupyter environment, please rerun this cell to show the HTML representation or trust the notebook. <br />On GitHub, the HTML representation is unable to render, please try loading this page with nbviewer.org.</b></div><div class=\"sk-container\" hidden><div class=\"sk-item sk-dashed-wrapped\"><div class=\"sk-label-container\"><div class=\"sk-label sk-toggleable\"><input class=\"sk-toggleable__control sk-hidden--visually\" id=\"sk-estimator-id-1\" type=\"checkbox\" ><label for=\"sk-estimator-id-1\" class=\"sk-toggleable__label sk-toggleable__label-arrow\">GridSearchCV</label><div class=\"sk-toggleable__content\"><pre>GridSearchCV(estimator=LogisticRegression(),\n",
       "             param_grid={&#x27;C&#x27;: [0.001, 0.01, 0.1, 1, 10]})</pre></div></div></div><div class=\"sk-parallel\"><div class=\"sk-parallel-item\"><div class=\"sk-item\"><div class=\"sk-label-container\"><div class=\"sk-label sk-toggleable\"><input class=\"sk-toggleable__control sk-hidden--visually\" id=\"sk-estimator-id-2\" type=\"checkbox\" ><label for=\"sk-estimator-id-2\" class=\"sk-toggleable__label sk-toggleable__label-arrow\">estimator: LogisticRegression</label><div class=\"sk-toggleable__content\"><pre>LogisticRegression()</pre></div></div></div><div class=\"sk-serial\"><div class=\"sk-item\"><div class=\"sk-estimator sk-toggleable\"><input class=\"sk-toggleable__control sk-hidden--visually\" id=\"sk-estimator-id-3\" type=\"checkbox\" ><label for=\"sk-estimator-id-3\" class=\"sk-toggleable__label sk-toggleable__label-arrow\">LogisticRegression</label><div class=\"sk-toggleable__content\"><pre>LogisticRegression()</pre></div></div></div></div></div></div></div></div></div></div>"
      ],
      "text/plain": [
       "GridSearchCV(estimator=LogisticRegression(),\n",
       "             param_grid={'C': [0.001, 0.01, 0.1, 1, 10]})"
      ]
     },
     "execution_count": 30,
     "metadata": {},
     "output_type": "execute_result"
    }
   ],
   "source": [
    "# Hyper-parametering\n",
    "p_grid = {'C':[0.001,0.01,0.1,1,10]}\n",
    "grid = GridSearchCV(LogisticRegression(),p_grid)\n",
    "grid.fit(xtrain,ytrain)"
   ]
  },
  {
   "cell_type": "code",
   "execution_count": 31,
   "id": "fa498820-bb99-4b80-9438-9f3374766c17",
   "metadata": {},
   "outputs": [
    {
     "name": "stdout",
     "output_type": "stream",
     "text": [
      "Best Parameters: {'C': 10}\n"
     ]
    }
   ],
   "source": [
    "print('Best Parameters:',grid.best_params_) #printing the parameters"
   ]
  },
  {
   "cell_type": "code",
   "execution_count": 32,
   "id": "2890da62-e1f7-418f-977d-3302a2ac8fec",
   "metadata": {},
   "outputs": [],
   "source": [
    "# Predicting after hyper-parametering\n",
    "ypred = grid.predict(xtest)"
   ]
  },
  {
   "cell_type": "code",
   "execution_count": 33,
   "id": "1431a712-3456-40f0-a90c-8983826be9b1",
   "metadata": {},
   "outputs": [
    {
     "name": "stdout",
     "output_type": "stream",
     "text": [
      "Test Accuracy : 85.92%\n"
     ]
    }
   ],
   "source": [
    "# Accuracy after hyper-parametering\n",
    "model_accuracy = accuracy_score(ypred,ytest) \n",
    "print(\"Test Accuracy : {:.2f}%\".format(model_accuracy*100))"
   ]
  },
  {
   "cell_type": "code",
   "execution_count": 34,
   "id": "3c49a51f-3d8b-47f7-97a7-cdcf6b0a5636",
   "metadata": {},
   "outputs": [
    {
     "name": "stdout",
     "output_type": "stream",
     "text": [
      "[[  84  104   38]\n",
      " [   4 1008    9]\n",
      " [  10  132  720]]\n",
      "\n",
      "\n",
      "              precision    recall  f1-score   support\n",
      "\n",
      "    Negative       0.86      0.37      0.52       226\n",
      "     Neutral       0.81      0.99      0.89      1021\n",
      "    Positive       0.94      0.84      0.88       862\n",
      "\n",
      "    accuracy                           0.86      2109\n",
      "   macro avg       0.87      0.73      0.76      2109\n",
      "weighted avg       0.87      0.86      0.85      2109\n",
      "\n"
     ]
    },
    {
     "data": {
      "text/plain": [
       "<sklearn.metrics._plot.confusion_matrix.ConfusionMatrixDisplay at 0x2447f05b590>"
      ]
     },
     "execution_count": 34,
     "metadata": {},
     "output_type": "execute_result"
    },
    {
     "data": {
      "image/png": "[encoded data removed]",
      "text/plain": [
       "<Figure size 640x480 with 2 Axes>"
      ]
     },
     "metadata": {},
     "output_type": "display_data"
    }
   ],
   "source": [
    "# Displaying and plotting the Confusion Matrix\n",
    "print(confusion_matrix(ytest,ypred))\n",
    "print(\"\\n\")\n",
    "print(classification_report(ytest,ypred)) # Display Classification Report\n",
    "style.use('classic')\n",
    "cm=confusion_matrix(ytest,model_pred,labels=model.classes_)\n",
    "disp = ConfusionMatrixDisplay(confusion_matrix = cm,display_labels=model.classes_)\n",
    "disp.plot()"
   ]
  },
  {
   "cell_type": "code",
   "execution_count": 35,
   "id": "c5c3abc1-a564-474a-ab0b-4bcfab1d0486",
   "metadata": {},
   "outputs": [],
   "source": [
    "# Saving the model for further use\n",
    "import pickle"
   ]
  },
  {
   "cell_type": "code",
   "execution_count": 36,
   "id": "4b822451-fc0a-47b4-b75d-714baf3e6509",
   "metadata": {},
   "outputs": [],
   "source": [
    "filename = 'tweet_model.sav'\n",
    "pickle.dump(model,open(filename,'wb'))"
   ]
  },
  {
   "cell_type": "code",
   "execution_count": null,
   "id": "ca091b3e-b11d-439a-91b4-b7a26a8ad2ce",
   "metadata": {},
   "outputs": [],
   "source": []
  },
  {
   "cell_type": "code",
   "execution_count": null,
   "id": "d994f0b2-fb11-4d6c-af01-15c57e46668b",
   "metadata": {},
   "outputs": [],
   "source": []
  }
 ],
 "metadata": {
  "kernelspec": {
   "display_name": "Python 3 (ipykernel)",
   "language": "python",
   "name": "python3"
  },
  "language_info": {
   "codemirror_mode": {
    "name": "ipython",
    "version": 3
   },
   "file_extension": ".py",
   "mimetype": "text/x-python",
   "name": "python",
   "nbconvert_exporter": "python",
   "pygments_lexer": "ipython3",
   "version": "3.11.4"
  }
 },
 "nbformat": 4,
 "nbformat_minor": 5
}
